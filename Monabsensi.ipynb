{
  "nbformat": 4,
  "nbformat_minor": 0,
  "metadata": {
    "colab": {
      "name": "Monabsensi",
      "provenance": [],
      "collapsed_sections": [],
      "toc_visible": true,
      "authorship_tag": "ABX9TyPWTCsHXJKFU+k+rmllZzV5",
      "include_colab_link": true
    },
    "kernelspec": {
      "name": "python3",
      "display_name": "Python 3"
    }
  },
  "cells": [
    {
      "cell_type": "markdown",
      "metadata": {
        "id": "view-in-github",
        "colab_type": "text"
      },
      "source": [
        "<a href=\"https://colab.research.google.com/github/BetaUliansyah/Sandbox/blob/main/Monabsensi.ipynb\" target=\"_parent\"><img src=\"https://colab.research.google.com/assets/colab-badge.svg\" alt=\"Open In Colab\"/></a>"
      ]
    },
    {
      "cell_type": "markdown",
      "metadata": {
        "id": "TQx8OwoHRiWd"
      },
      "source": [
        "# Monabppk Wrapper"
      ]
    },
    {
      "cell_type": "code",
      "metadata": {
        "id": "1SMaUNrBRfGY",
        "colab": {
          "base_uri": "https://localhost:8080/",
          "height": 607
        },
        "outputId": "022de14e-3698-4cb0-88b6-0afbe24321ef"
      },
      "source": [
        "#@Monabsensi by beta.uliansyah@pknstan.ac.id\n",
        "import requests\n",
        "from bs4 import BeautifulSoup\n",
        "from urllib.parse import urlparse \n",
        "import json\n",
        "import re\n",
        "from tabulate import tabulate\n",
        "\n",
        "username = ''\n",
        "password = ''\n",
        "\n",
        "\n",
        "s = requests.Session()\n",
        "r = s.get('https://monabppk.kemenkeu.go.id/')\n",
        "bsoup = BeautifulSoup(r.text, 'html.parser')\n",
        "\n",
        "if session.status_code==200:\n",
        "    # mencari csrf token\n",
        "    csrf_value = bsoup.find(\"input\", {\"name\":\"csrf_test_name\"})['value']\n",
        "    r = s.post('https://monabppk.kemenkeu.go.id/index.php/login', \n",
        "                           data={'csrf_test_name': csrf_value, 'inputEmail': username, 'inputPassword': password})\n",
        "    #print(r.text)\n",
        "    if r.status_code==200 and username in r.text:\n",
        "        r = s.get('https://monabppk.kemenkeu.go.id/index.php/presensi')\n",
        "        #print(r.text)\n",
        "        datasoup = BeautifulSoup(r.text, 'html.parser')\n",
        "\n",
        "\n",
        "        # menampilkan nama\n",
        "        nama = datasoup.find(\"h3\", {\"class\":\"box-title pull-right\"}).text\n",
        "        print(\"Menampilkan data monabsensi atas nama \" + nama)\n",
        "    \n",
        "        # menyiapkan tabel\n",
        "        data = []\n",
        "        table = datasoup.find('table', attrs={'class':'table table-bordered table-hover'})\n",
        "\n",
        "        # membaca header table\n",
        "        table_body = table.find('thead')\n",
        "        rows = table_body.find_all('tr')\n",
        "        for row in rows:\n",
        "            cols = row.find_all('th')\n",
        "            cols = [ele.text.strip() for ele in cols]\n",
        "            data.append([ele for ele in cols if ele]) # Get rid of empty values\n",
        "\n",
        "        # membaca table body\n",
        "        table_body = table.find('tbody')\n",
        "        rows = table_body.find_all('tr')\n",
        "        for row in rows:\n",
        "            cols = row.find_all('td')\n",
        "            cols = [ele.text.strip() for ele in cols]\n",
        "            data.append([ele for ele in cols if ele]) # Get rid of empty values\n",
        "        print(tabulate(data))\n",
        "\n",
        "# logout\n",
        "r = s.get('https://monabppk.kemenkeu.go.id/index.php/login/logout')\n",
        "\n",
        "# Credits\n",
        "# https://stackoverflow.com/questions/23377533/python-beautifulsoup-parsing-table\n",
        "# https://stackoverflow.com/questions/9535954/printing-lists-as-tabular-data"
      ],
      "execution_count": null,
      "outputs": [
        {
          "output_type": "stream",
          "text": [
            "Menampilkan data monabsensi atas nama Beta Andri Anggiano Uliansyah - 197912062001121001\n",
            "--  ------  ----------  ------------  -----  -------------  ------  ----------  -------------------  -----------  -----------\n",
            "No  Hari    Tanggal     Jadwal Masuk  Masuk  Jadwal Pulang  Pulang  Cuti 1/2 H  Keterangan           Lama TL/PSW  Log Absensi\n",
            "1   Rabu    1-04-2020   07:59         07:59  17:29          19:13   -           -                    -            ...\n",
            "2   Kamis   2-04-2020   07:05         07:05  16:35          18:15   -           -                    -            ...\n",
            "3   Jumat   3-04-2020   07:00         06:06  16:30          21:14   -           -                    -            ...\n",
            "4   Sabtu   4-04-2020   00:00         00:00  00:00          00:00   -           Libur                -            ...\n",
            "5   Minggu  5-04-2020   00:00         00:00  00:00          00:00   -           Libur                -            ...\n",
            "6   Senin   6-04-2020   07:00         06:15  16:30          17:52   -           -                    -            ...\n",
            "7   Selasa  7-04-2020   07:09         07:09  16:39          17:01   -           -                    -            ...\n",
            "8   Rabu    8-04-2020   07:00         06:12  16:30          17:07   -           -                    -            ...\n",
            "9   Kamis   9-04-2020   07:00         06:10  16:30          17:03   -           -                    -            ...\n",
            "10  Jumat   10-04-2020  07:00         06:20  16:30          17:05   -           Libur                -            ...\n",
            "11  Sabtu   11-04-2020  00:00         00:00  00:00          00:00   -           Libur                -            ...\n",
            "12  Minggu  12-04-2020  00:00         00:00  00:00          00:00   -           Libur                -            ...\n",
            "13  Senin   13-04-2020  07:00         06:15  16:30          00:00   -           PSW4                 3 j 45 m     ...\n",
            "14  Selasa  14-04-2020  07:30         00:00  17:00          00:00   -           Belum Waktu Absensi  -            ...\n",
            "15  Rabu    15-04-2020  07:30         00:00  17:00          00:00   -           Belum Waktu Absensi  -            ...\n",
            "16  Kamis   16-04-2020  07:30         00:00  17:00          00:00   -           Belum Waktu Absensi  -            ...\n",
            "17  Jumat   17-04-2020  07:30         00:00  17:00          00:00   -           Belum Waktu Absensi  -            ...\n",
            "18  Sabtu   18-04-2020  00:00         00:00  00:00          00:00   -           Libur                -            ...\n",
            "19  Minggu  19-04-2020  00:00         00:00  00:00          00:00   -           Libur                -            ...\n",
            "20  Senin   20-04-2020  07:30         00:00  17:00          00:00   -           Belum Waktu Absensi  -            ...\n",
            "21  Selasa  21-04-2020  07:30         00:00  17:00          00:00   -           Belum Waktu Absensi  -            ...\n",
            "22  Rabu    22-04-2020  07:30         00:00  17:00          00:00   -           Belum Waktu Absensi  -            ...\n",
            "23  Kamis   23-04-2020  07:30         00:00  15:30          00:00   -           Belum Waktu Absensi  -            ...\n",
            "24  Jumat   24-04-2020  07:30         00:00  15:30          00:00   -           Belum Waktu Absensi  -            ...\n",
            "25  Sabtu   25-04-2020  00:00         00:00  00:00          00:00   -           Libur                -            ...\n",
            "26  Minggu  26-04-2020  00:00         00:00  00:00          00:00   -           Libur                -            ...\n",
            "27  Senin   27-04-2020  07:30         00:00  15:30          00:00   -           Belum Waktu Absensi  -            ...\n",
            "28  Selasa  28-04-2020  07:30         00:00  15:30          00:00   -           Belum Waktu Absensi  -            ...\n",
            "29  Rabu    29-04-2020  07:30         00:00  15:30          00:00   -           Belum Waktu Absensi  -            ...\n",
            "30  Kamis   30-04-2020  07:30         00:00  15:30          00:00   -           Belum Waktu Absensi  -            ...\n",
            "--  ------  ----------  ------------  -----  -------------  ------  ----------  -------------------  -----------  -----------\n"
          ],
          "name": "stdout"
        }
      ]
    },
    {
      "cell_type": "markdown",
      "metadata": {
        "id": "RcAnBdUtxgpi"
      },
      "source": [
        "# Monabsensi Today"
      ]
    },
    {
      "cell_type": "code",
      "metadata": {
        "colab": {
          "base_uri": "https://localhost:8080/"
        },
        "id": "zudzI1_FxoyZ",
        "outputId": "05f18aba-0978-43ca-f63f-7fa0b013b98a"
      },
      "source": [
        "import requests\n",
        "from bs4 import BeautifulSoup\n",
        "import re\n",
        "import datetime\n",
        "import urllib3\n",
        "import json\n",
        "\n",
        "# Pushbullet\n",
        "def pushbullet_message(title, body):\n",
        "    msg = {\"type\": \"note\", \"title\": title, \"body\": body}\n",
        "    TOKEN = 'o.689jKnqZumRxjvSUSFMGCHnrYV5xGKF0'\n",
        "    resp = requests.post('https://api.pushbullet.com/v2/pushes', \n",
        "                         data=json.dumps(msg),\n",
        "                         headers={'Authorization': 'Bearer ' + TOKEN,\n",
        "                                  'Content-Type': 'application/json'})\n",
        "    if resp.status_code != 200:\n",
        "        raise Exception('Error',resp.status_code)\n",
        "    else:\n",
        "        print ('Message sent') \n",
        "\n",
        "session = None\n",
        "\n",
        "def set_global_session():\n",
        "    global session\n",
        "    if not session:\n",
        "        session = requests.Session()\n",
        "        urllib3.disable_warnings(urllib3.exceptions.InsecureRequestWarning)\n",
        "        session.verify = False\n",
        "\n",
        "def get_token():\n",
        "    with session.get('https://monabppk.kemenkeu.go.id/') as response:\n",
        "        if response.status_code==200 and len(response.text) != 0:\n",
        "            bsoup = BeautifulSoup(response.text, 'html.parser')\n",
        "            csrf_value = bsoup.find(\"input\", {\"name\":\"csrf_test_name\"})['value']\n",
        "            return csrf_value\n",
        "\n",
        "def login(csrf_value, username, password):\n",
        "    with session.post('https://monabppk.kemenkeu.go.id/index.php/login', \n",
        "                      data={'csrf_test_name': csrf_value, 'inputEmail': username, 'inputPassword': password}) as response:\n",
        "        if response.status_code==200 and len(response.text) != 0:\n",
        "            return True\n",
        "\n",
        "def presensi():\n",
        "    with session.get('https://monabppk.kemenkeu.go.id/index.php/mona') as response:\n",
        "        if response.status_code==200 and len(response.text) != 0:\n",
        "            bsoup = BeautifulSoup(response.text, 'html.parser')\n",
        "            attend_links = bsoup.find_all('a', attrs = {'class' : 'small-box-footer'})\n",
        "            for alink in attend_links:\n",
        "                if \"presensi\" in alink['href']:\n",
        "                    alink = alink['href']\n",
        "                    #print(alink)\n",
        "                    break\n",
        "    if (alink):\n",
        "        with session.get(alink) as response:\n",
        "            if response.status_code==200 and len(response.text) != 0:\n",
        "                return True\n",
        "       \n",
        "\n",
        "def get_data_presensi():\n",
        "    with session.get('https://monabppk.kemenkeu.go.id/index.php/presensi') as response:\n",
        "        if response.status_code==200 and len(response.text) != 0:\n",
        "            bsoup = BeautifulSoup(response.text, 'html.parser')\n",
        "            tgl_hari_ini = datetime.date.today().strftime(\"%-d-%m-%Y\")\n",
        "            hasil_presensi = bsoup.find('td', text = re.compile(tgl_hari_ini))\n",
        "            hari = hasil_presensi.find_previous_sibling('td')\n",
        "            jam_masuk = hasil_presensi.findNext('td').findNext('td')\n",
        "            jam_pulang = jam_masuk.findNext('td').findNext('td')\n",
        "            keterangan = jam_pulang.findNext('td').findNext('td')\n",
        "            return [hari.text, tgl_hari_ini, jam_masuk.text, jam_pulang.text, keterangan.text]\n",
        "        \n",
        "def logout():\n",
        "    session.get('https://monabppk.kemenkeu.go.id/index.php/login/logout')\n",
        "\n",
        "#pushbullet_message(\"Cek Monabsensi\", \"Tgl \"+tanggal+\": Absen pagi jam \"+jam_masuk.text+\", absen pulang jam \"+jam_pulang.text+\". Keterangan: \"+keterangan.text)\n",
        "\n",
        "if __name__ == \"__main__\":\n",
        "   set_global_session()\n",
        "   token = get_token()\n",
        "   if login(token, '', ''):\n",
        "       #print(presensi())\n",
        "       data = get_data_presensi()\n",
        "   print(data)\n",
        "   logout()\n",
        "\n",
        "# Credits:\n",
        "# https://stackoverflow.com/questions/9007653/how-to-find-tag-with-particular-text-with-beautiful-soup"
      ],
      "execution_count": 29,
      "outputs": [
        {
          "output_type": "stream",
          "text": [
            "['Selasa', '19-01-2021', '06:20', '00:00', 'PSW4']\n"
          ],
          "name": "stdout"
        }
      ]
    },
    {
      "cell_type": "code",
      "metadata": {
        "colab": {
          "base_uri": "https://localhost:8080/",
          "height": 163
        },
        "id": "xZeddJ3w6cwz",
        "outputId": "cfd1bd2c-da8f-484a-fd8f-3d2e61dd5f78"
      },
      "source": [
        "response.status_code\n"
      ],
      "execution_count": 18,
      "outputs": [
        {
          "output_type": "error",
          "ename": "NameError",
          "evalue": "ignored",
          "traceback": [
            "\u001b[0;31m---------------------------------------------------------------------------\u001b[0m",
            "\u001b[0;31mNameError\u001b[0m                                 Traceback (most recent call last)",
            "\u001b[0;32m<ipython-input-18-701672f51b9e>\u001b[0m in \u001b[0;36m<module>\u001b[0;34m()\u001b[0m\n\u001b[0;32m----> 1\u001b[0;31m \u001b[0mresponse\u001b[0m\u001b[0;34m.\u001b[0m\u001b[0mstatus_code\u001b[0m\u001b[0;34m\u001b[0m\u001b[0;34m\u001b[0m\u001b[0m\n\u001b[0m",
            "\u001b[0;31mNameError\u001b[0m: name 'response' is not defined"
          ]
        }
      ]
    }
  ]
}